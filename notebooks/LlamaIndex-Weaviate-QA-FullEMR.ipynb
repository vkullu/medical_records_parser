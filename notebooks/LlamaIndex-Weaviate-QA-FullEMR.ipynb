{
 "cells": [
  {
   "cell_type": "code",
   "execution_count": 1,
   "metadata": {},
   "outputs": [],
   "source": [
    "from llama_index import SimpleDirectoryReader\n",
    "from llama_index.node_parser import SimpleNodeParser\n",
    "import weaviate"
   ]
  },
  {
   "cell_type": "code",
   "execution_count": 2,
   "metadata": {},
   "outputs": [
    {
     "name": "stdout",
     "output_type": "stream",
     "text": [
      "Started /Users/vinayak/.cache/weaviate-embedded: process ID 15481\n"
     ]
    },
    {
     "name": "stderr",
     "output_type": "stream",
     "text": [
      "{\"action\":\"startup\",\"default_vectorizer_module\":\"none\",\"level\":\"info\",\"msg\":\"the default vectorizer modules is set to \\\"none\\\", as a result all new schema classes without an explicit vectorizer setting, will use this vectorizer\",\"time\":\"2023-08-24T14:15:58-07:00\"}\n",
      "{\"action\":\"startup\",\"auto_schema_enabled\":true,\"level\":\"info\",\"msg\":\"auto schema enabled setting is set to \\\"true\\\"\",\"time\":\"2023-08-24T14:15:58-07:00\"}\n",
      "{\"action\":\"hnsw_vector_cache_prefill\",\"count\":3000,\"index_id\":\"kaiser_vk_data_XZ11Gl2OGZs4\",\"level\":\"info\",\"limit\":1000000000000,\"msg\":\"prefilled vector cache\",\"time\":\"2023-08-24T14:15:58-07:00\",\"took\":2098403}\n",
      "{\"action\":\"hnsw_vector_cache_prefill\",\"count\":3000,\"index_id\":\"kaiser_vk_hospital_encounters_data_dDYcXtmUpR47\",\"level\":\"info\",\"limit\":1000000000000,\"msg\":\"prefilled vector cache\",\"time\":\"2023-08-24T14:15:58-07:00\",\"took\":4735684}\n",
      "{\"action\":\"hnsw_vector_cache_prefill\",\"count\":3000,\"index_id\":\"normal_path_data_anthropic_MmeJlEhLODBs\",\"level\":\"info\",\"limit\":1000000000000,\"msg\":\"prefilled vector cache\",\"time\":\"2023-08-24T14:15:58-07:00\",\"took\":5186662}\n",
      "{\"action\":\"hnsw_vector_cache_prefill\",\"count\":3000,\"index_id\":\"cancer_image_data_TKnifRuUNOct\",\"level\":\"info\",\"limit\":1000000000000,\"msg\":\"prefilled vector cache\",\"time\":\"2023-08-24T14:15:58-07:00\",\"took\":1069843}\n",
      "{\"action\":\"hnsw_vector_cache_prefill\",\"count\":3000,\"index_id\":\"cancer_image_datadeduped_Tpg7ja9xUVK4\",\"level\":\"info\",\"limit\":1000000000000,\"msg\":\"prefilled vector cache\",\"time\":\"2023-08-24T14:15:58-07:00\",\"took\":761247}\n",
      "{\"action\":\"hnsw_vector_cache_prefill\",\"count\":3000,\"index_id\":\"surgery_img_scanned_YN1uVHMO0OWL\",\"level\":\"info\",\"limit\":1000000000000,\"msg\":\"prefilled vector cache\",\"time\":\"2023-08-24T14:15:58-07:00\",\"took\":568594}\n",
      "{\"action\":\"hnsw_vector_cache_prefill\",\"count\":3000,\"index_id\":\"normal_path_data_44x59J1As7ay\",\"level\":\"info\",\"limit\":1000000000000,\"msg\":\"prefilled vector cache\",\"time\":\"2023-08-24T14:15:58-07:00\",\"took\":38798149}\n",
      "{\"action\":\"hnsw_vector_cache_prefill\",\"count\":3000,\"index_id\":\"surgery_img_scanned_unstructured_etWmsDCZrENz\",\"level\":\"info\",\"limit\":1000000000000,\"msg\":\"prefilled vector cache\",\"time\":\"2023-08-24T14:15:58-07:00\",\"took\":394697}\n",
      "{\"action\":\"hnsw_vector_cache_prefill\",\"count\":3000,\"index_id\":\"minnie_mouse_cancer_butUpHlmmz4Q\",\"level\":\"info\",\"limit\":1000000000000,\"msg\":\"prefilled vector cache\",\"time\":\"2023-08-24T14:15:58-07:00\",\"took\":2702519}\n",
      "{\"action\":\"hnsw_vector_cache_prefill\",\"count\":3000,\"index_id\":\"tcga_img_scanned_unstructured_xWJlvcwnOhXz\",\"level\":\"info\",\"limit\":1000000000000,\"msg\":\"prefilled vector cache\",\"time\":\"2023-08-24T14:15:58-07:00\",\"took\":70238}\n",
      "{\"action\":\"hnsw_vector_cache_prefill\",\"count\":3000,\"index_id\":\"tcga_cancer_fySVCphHnYDt\",\"level\":\"info\",\"limit\":1000000000000,\"msg\":\"prefilled vector cache\",\"time\":\"2023-08-24T14:15:58-07:00\",\"took\":100327}\n",
      "{\"action\":\"hnsw_vector_cache_prefill\",\"count\":3000,\"index_id\":\"vk_short_report_3XOzoraJCBXi\",\"level\":\"info\",\"limit\":1000000000000,\"msg\":\"prefilled vector cache\",\"time\":\"2023-08-24T14:15:58-07:00\",\"took\":1230907}\n",
      "{\"action\":\"hnsw_vector_cache_prefill\",\"count\":3000,\"index_id\":\"mid_emr_data_wMH1YBiRgReD\",\"level\":\"info\",\"limit\":1000000000000,\"msg\":\"prefilled vector cache\",\"time\":\"2023-08-24T14:15:58-07:00\",\"took\":62034}\n",
      "{\"level\":\"warning\",\"msg\":\"Multiple vector spaces are present, GraphQL Explore and REST API list objects endpoint module include params has been disabled as a result.\",\"time\":\"2023-08-24T14:15:58-07:00\"}\n",
      "{\"action\":\"hnsw_vector_cache_prefill\",\"count\":3000,\"index_id\":\"vk_medium_report_dpVWRufPkQhM\",\"level\":\"info\",\"limit\":1000000000000,\"msg\":\"prefilled vector cache\",\"time\":\"2023-08-24T14:15:58-07:00\",\"took\":8079171}\n",
      "{\"action\":\"grpc_startup\",\"level\":\"info\",\"msg\":\"grpc server listening at [::]:50051\",\"time\":\"2023-08-24T14:15:58-07:00\"}\n",
      "{\"action\":\"restapi_management\",\"level\":\"info\",\"msg\":\"Serving weaviate at http://127.0.0.1:6666\",\"time\":\"2023-08-24T14:15:58-07:00\"}\n"
     ]
    }
   ],
   "source": [
    "# connect to your weaviate instance\n",
    "\n",
    "from weaviate.embedded import EmbeddedOptions\n",
    "\n",
    "client = weaviate.Client(\n",
    "  embedded_options=EmbeddedOptions()\n",
    ")\n"
   ]
  },
  {
   "cell_type": "markdown",
   "metadata": {},
   "source": [
    "![alternative text](../docs/images/PXL_20230726_203549965.jpg)"
   ]
  },
  {
   "cell_type": "markdown",
   "metadata": {},
   "source": [
    "## This is a pathology report, containing 40 some pages of all sorts of blood work"
   ]
  },
  {
   "cell_type": "code",
   "execution_count": 3,
   "metadata": {},
   "outputs": [],
   "source": [
    "path_data = SimpleDirectoryReader('/Users/vinayak/projects/kaiser/data/mid_sample_emr/').load_data()"
   ]
  },
  {
   "cell_type": "code",
   "execution_count": 4,
   "metadata": {},
   "outputs": [],
   "source": [
    "# chunk up the data posts into nodes \n",
    "parser = SimpleNodeParser()\n",
    "nodes = parser.get_nodes_from_documents(path_data)"
   ]
  },
  {
   "cell_type": "code",
   "execution_count": 5,
   "metadata": {},
   "outputs": [],
   "source": [
    "from llama_index.vector_stores import WeaviateVectorStore\n",
    "from llama_index import VectorStoreIndex, StorageContext\n",
    "from llama_index.storage.storage_context import StorageContext\n",
    "\n",
    "\n",
    "# construct vector store\n",
    "vector_store = WeaviateVectorStore(weaviate_client = client, index_name=\"Mid_emr_data\", text_key=\"content\")\n",
    "\n",
    "# setting up the storage for the embeddings\n",
    "storage_context = StorageContext.from_defaults(vector_store = vector_store)\n",
    "#\n",
    "# set up the index\n",
    "index = VectorStoreIndex(nodes, storage_context = storage_context)\n"
   ]
  },
  {
   "cell_type": "code",
   "execution_count": 6,
   "metadata": {},
   "outputs": [
    {
     "name": "stdout",
     "output_type": "stream",
     "text": [
      "This is a lab report.\n"
     ]
    }
   ],
   "source": [
    "# Segmenting report into pre determined types. This can also be done via enums in \"class\" code.\n",
    "query_engine = index.as_query_engine()\n",
    "question = \"\"\"\n",
    "What kind of report is this? \n",
    "Your choices are pathology report, lab report, genetic test report, clinical notes or radiology report.\n",
    "\"\"\"\n",
    "response = query_engine.query(question)\n",
    "print(response)\n",
    "# I am surprised just prompting is doing it."
   ]
  },
  {
   "cell_type": "code",
   "execution_count": 8,
   "metadata": {},
   "outputs": [
    {
     "name": "stdout",
     "output_type": "stream",
     "text": [
      "\n",
      "Provider Name | Department | Visit Date | Visit Reason | Visit Summary\n",
      "Kulkarni, Vinayak V | INTERNAL MEDICINE | 4/20/2013 | Scheduled Telephone Encounter | Clinical Notes\n",
      "Kulkarni, Vinayak V | INTERNAL MEDICINE | 8/28/2013 | Patient Secure Message | Messages\n"
     ]
    }
   ],
   "source": [
    "# Segmenting report into pre determined types. This can also be done via enums in \"class\" code.\n",
    "query_engine = index.as_query_engine()\n",
    "question = \"\"\"\n",
    "This is an EMR dump from the hospital and contains all my visits to the hospital in chronological order please make a table of all the visits with columns provider_name, department, visit_date, visit_reason, visit_summary\n",
    "\"\"\"\n",
    "response = query_engine.query(question)\n",
    "print(response)\n",
    "# I am surprised just prompting is doing it."
   ]
  },
  {
   "cell_type": "code",
   "execution_count": null,
   "metadata": {},
   "outputs": [],
   "source": [
    "# A useful return object which has many goodies\n",
    "response.source_nodes"
   ]
  },
  {
   "cell_type": "code",
   "execution_count": null,
   "metadata": {},
   "outputs": [],
   "source": [
    "# How did it come to the conclusion that it was a patholiogy report?\n",
    "\n",
    "evidence = response.source_nodes[0].node.text\n",
    "location = response.source_nodes[0].node.metadata\n",
    "evidence, location"
   ]
  },
  {
   "cell_type": "code",
   "execution_count": null,
   "metadata": {},
   "outputs": [],
   "source": [
    "# Let's underline the text in PDF so user can see the rational for the decision\n",
    "\n",
    "import fitz\n",
    "\n",
    "def highlight_sentence(pdf_path, output_path, sentences):\n",
    "    doc = fitz.open(pdf_path)\n",
    "    \n",
    "    for sentence in sentences:\n",
    "        for page in doc:\n",
    "            text_instances = page.search_for(sentence)\n",
    "\n",
    "            # Draw the highlight rectangles for each instance in the text\n",
    "            for inst in text_instances:\n",
    "                highlight = page.add_highlight_annot(inst)\n",
    "\n",
    "    # Save the PDF with the highlighted sentences\n",
    "    doc.save(output_path, garbage=4, deflate=True, clean=True)\n",
    "\n",
    "# Use the function\n",
    "pdf_path = \"/Users/vinayak/projects/kaiser/data/normal_pathology_report/report-4d3e60c1fbf22977fa883241f5766cb5156c7f39.pdf\"\n",
    "output_path = \"/Users/vinayak/projects/kaiser/data/temp/output.pdf\"\n",
    "sentences = evidence.rsplit(\"\\n\")\n",
    "highlight_sentence(pdf_path, output_path, sentences)\n"
   ]
  },
  {
   "cell_type": "markdown",
   "metadata": {},
   "source": [
    "### Some more harder queries"
   ]
  },
  {
   "cell_type": "code",
   "execution_count": null,
   "metadata": {},
   "outputs": [],
   "source": [
    "# and now query 🚀\n",
    "query_engine = index.as_query_engine()\n",
    "response = query_engine.query(\"Give me a table with all the tests, the result, unit and normal range.\")\n",
    "print(response)\n",
    "\n",
    "## Why does this not work???"
   ]
  },
  {
   "cell_type": "code",
   "execution_count": null,
   "metadata": {},
   "outputs": [],
   "source": [
    "# same query but give it more context via the prompt works.\n",
    "query_engine = index.as_query_engine()\n",
    "question = \"\"\"This is a pathology lab blood report. Its has various sections about different tests conducted. For the section on hematology, please give me the test, result, unit and reference interval in a table.\"\n",
    "\"\"\"\n",
    "response = query_engine.query(question)\n",
    "print(response)\n",
    "\n",
    "## CONCERN: There are some values on othere pages it is missing!"
   ]
  },
  {
   "cell_type": "markdown",
   "metadata": {},
   "source": [
    "## Attempt to configure the retriever so I can get *all* results!"
   ]
  },
  {
   "cell_type": "markdown",
   "metadata": {},
   "source": [
    "## Making it more complex since we need top 'n' results not only top 2"
   ]
  },
  {
   "cell_type": "code",
   "execution_count": null,
   "metadata": {},
   "outputs": [],
   "source": [
    "from llama_index.llms import OpenAI\n",
    "\n",
    "llm = OpenAI(model=\"text-davinci-003\", temperature=0, max_tokens=4000)"
   ]
  },
  {
   "cell_type": "code",
   "execution_count": null,
   "metadata": {},
   "outputs": [],
   "source": [
    "from llama_index import (\n",
    "    VectorStoreIndex,\n",
    "    get_response_synthesizer,\n",
    ")\n",
    "from llama_index.retrievers import VectorIndexRetriever\n",
    "from llama_index.query_engine import RetrieverQueryEngine\n",
    "\n",
    "\n",
    "# configure retriever\n",
    "retriever = VectorIndexRetriever(\n",
    "    index=index, \n",
    "    similarity_top_k=10,\n",
    ")\n",
    "\n",
    "# configure response synthesizer\n",
    "response_synthesizer = get_response_synthesizer(\n",
    "    response_mode=\"tree_summarize\",\n",
    ")\n",
    "\n",
    "# assemble query engine\n",
    "query_engine = RetrieverQueryEngine(\n",
    "    retriever=retriever,\n",
    "    response_synthesizer=response_synthesizer,\n",
    ")\n",
    "\n",
    "# query\n",
    "response = query_engine.query(question)\n",
    "print(response)"
   ]
  },
  {
   "cell_type": "code",
   "execution_count": null,
   "metadata": {},
   "outputs": [],
   "source": [
    "from llama_index import (\n",
    "    VectorStoreIndex,\n",
    "    get_response_synthesizer,\n",
    ")\n",
    "from llama_index.retrievers import VectorIndexRetriever\n",
    "from llama_index.query_engine import RetrieverQueryEngine\n",
    "\n",
    "\n",
    "# configure retriever\n",
    "retriever = VectorIndexRetriever(\n",
    "    index=index, \n",
    "    similarity_top_k=20,\n",
    ")\n",
    "\n",
    "# configure response synthesizer\n",
    "response_synthesizer = get_response_synthesizer(\n",
    "    response_mode=\"tree_summarize\",\n",
    ")\n",
    "\n",
    "# assemble query engine\n",
    "query_engine = RetrieverQueryEngine(\n",
    "    retriever=retriever,\n",
    "    response_synthesizer=response_synthesizer,\n",
    ")\n",
    "\n",
    "# query\n",
    "response = query_engine.query(question)\n",
    "print(response)"
   ]
  },
  {
   "cell_type": "code",
   "execution_count": null,
   "metadata": {},
   "outputs": [],
   "source": [
    "len(response.source_nodes)"
   ]
  },
  {
   "cell_type": "code",
   "execution_count": null,
   "metadata": {},
   "outputs": [],
   "source": []
  }
 ],
 "metadata": {
  "kernelspec": {
   "display_name": "Python 3 (ipykernel)",
   "language": "python",
   "name": "python3"
  },
  "language_info": {
   "codemirror_mode": {
    "name": "ipython",
    "version": 3
   },
   "file_extension": ".py",
   "mimetype": "text/x-python",
   "name": "python",
   "nbconvert_exporter": "python",
   "pygments_lexer": "ipython3",
   "version": "3.10.12"
  }
 },
 "nbformat": 4,
 "nbformat_minor": 4
}
