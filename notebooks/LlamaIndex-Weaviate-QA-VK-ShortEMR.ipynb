{
 "cells": [
  {
   "cell_type": "code",
   "execution_count": null,
   "metadata": {},
   "outputs": [],
   "source": [
    "from llama_index import SimpleDirectoryReader\n",
    "from llama_index.node_parser import SimpleNodeParser\n",
    "import weaviate"
   ]
  },
  {
   "cell_type": "code",
   "execution_count": null,
   "metadata": {},
   "outputs": [],
   "source": [
    "# connect to your weaviate instance\n",
    "\n",
    "from weaviate.embedded import EmbeddedOptions\n",
    "\n",
    "client = weaviate.Client(\n",
    "  embedded_options=EmbeddedOptions()\n",
    ")\n"
   ]
  },
  {
   "cell_type": "markdown",
   "metadata": {},
   "source": [
    "![alternative text](../docs/images/PXL_20230726_203549965.jpg)"
   ]
  },
  {
   "cell_type": "markdown",
   "metadata": {},
   "source": [
    "## This is a pathology report, containing 40 some pages of all sorts of blood work"
   ]
  },
  {
   "cell_type": "code",
   "execution_count": null,
   "metadata": {},
   "outputs": [],
   "source": [
    "path_data = SimpleDirectoryReader('/Users/vinayak/projects/kaiser/data/mid_sample_emr//').load_data()"
   ]
  },
  {
   "cell_type": "code",
   "execution_count": null,
   "metadata": {},
   "outputs": [],
   "source": [
    "# chunk up the data posts into nodes \n",
    "parser = SimpleNodeParser()\n",
    "nodes = parser.get_nodes_from_documents(path_data)"
   ]
  },
  {
   "cell_type": "code",
   "execution_count": null,
   "metadata": {},
   "outputs": [],
   "source": [
    "from llama_index.vector_stores import WeaviateVectorStore\n",
    "from llama_index import VectorStoreIndex, StorageContext\n",
    "from llama_index.storage.storage_context import StorageContext\n",
    "\n",
    "\n",
    "# construct vector store\n",
    "vector_store = WeaviateVectorStore(weaviate_client = client, index_name=\"VK_Medium_Report\", text_key=\"content\")\n",
    "\n",
    "# setting up the storage for the embeddings\n",
    "storage_context = StorageContext.from_defaults(vector_store = vector_store)\n",
    "#\n",
    "# set up the index\n",
    "index = VectorStoreIndex(nodes, storage_context = storage_context)\n"
   ]
  },
  {
   "cell_type": "code",
   "execution_count": null,
   "metadata": {},
   "outputs": [],
   "source": [
    "# Segmenting report into pre determined types. This can also be done via enums in \"class\" code.\n",
    "query_engine = index.as_query_engine()\n",
    "question = \"\"\"\n",
    "What kind of report is this? \n",
    "Your choices are pathology report, lab report, EMR records, genetic test report, clinical notes or radiology report.\n",
    "\"\"\"\n",
    "response = query_engine.query(question)\n",
    "print(response)\n",
    "# I am surprised just prompting is doing it."
   ]
  },
  {
   "cell_type": "code",
   "execution_count": null,
   "metadata": {},
   "outputs": [],
   "source": [
    "# How did it come to the conclusion that it was a patholiogy report?\n",
    "\n",
    "evidence = response.source_nodes[0].node.text\n",
    "location = response.source_nodes[0].node.metadata\n",
    "evidence, location"
   ]
  },
  {
   "cell_type": "code",
   "execution_count": null,
   "metadata": {},
   "outputs": [],
   "source": [
    "query_engine = index.as_query_engine()\n",
    "question = \"\"\"\n",
    "This is EMR data and I want to mask out all the PHI data from the documents. Can you give me the phi found in this document?\n",
    "\"\"\"\n",
    "response = query_engine.query(question)\n",
    "print(response)"
   ]
  },
  {
   "cell_type": "code",
   "execution_count": null,
   "metadata": {},
   "outputs": [],
   "source": [
    "query_engine = index.as_query_engine()\n",
    "question = \"\"\"\n",
    "This is EMR data and I want to mask out all the HIPAA fields from the documents. Can you give me the HIPAA fields found in this document?\n",
    "\"\"\"\n",
    "response = query_engine.query(question)\n",
    "print(response)"
   ]
  },
  {
   "cell_type": "code",
   "execution_count": null,
   "metadata": {},
   "outputs": [],
   "source": [
    "query_engine = index.as_query_engine()\n",
    "question = \"\"\"\n",
    "This is EMR data and I want to mask out all the HIPAA fields from the documents. Can you give me the HIPAA fields found in this document?\n",
    "\"\"\"\n",
    "response = query_engine.query(question)\n",
    "print(response)"
   ]
  },
  {
   "cell_type": "code",
   "execution_count": null,
   "metadata": {},
   "outputs": [],
   "source": [
    "# Segmenting report into pre determined types. This can also be done via enums in \"class\" code.\n",
    "query_engine = index.as_query_engine()\n",
    "question = \"\"\"\n",
    "What kind of report is this? \n",
    "Your choices are pathology report, lab report, genetic test report, clinical notes or radiology report.\n",
    "Also in a new line please give the exact line from the document which led you to the answer.\n",
    "\"\"\"\n",
    "response = query_engine.query(question)\n",
    "print(response)\n",
    "# I am surprised just prompting is doing it."
   ]
  },
  {
   "cell_type": "code",
   "execution_count": null,
   "metadata": {},
   "outputs": [],
   "source": [
    "# Let's underline the text in PDF so user can see the rational for the decision\n",
    "\n",
    "import fitz\n",
    "\n",
    "def highlight_sentence(pdf_path, output_path, sentences):\n",
    "    doc = fitz.open(pdf_path)\n",
    "    \n",
    "    for sentence in sentences:\n",
    "        for page in doc:\n",
    "            text_instances = page.search_for(sentence)\n",
    "\n",
    "            # Draw the highlight rectangles for each instance in the text\n",
    "            for inst in text_instances:\n",
    "                highlight = page.add_highlight_annot(inst)\n",
    "\n",
    "    # Save the PDF with the highlighted sentences\n",
    "    doc.save(output_path, garbage=4, deflate=True, clean=True)\n",
    "\n",
    "# Use the function\n",
    "pdf_path = \"/Users/vinayak/projects/kaiser/data/normal_pathology_report/report-4d3e60c1fbf22977fa883241f5766cb5156c7f39.pdf\"\n",
    "output_path = \"/Users/vinayak/projects/kaiser/data/temp/output.pdf\"\n",
    "sentences = evidence.rsplit(\"\\n\")\n",
    "highlight_sentence(pdf_path, output_path, sentences)\n"
   ]
  },
  {
   "cell_type": "markdown",
   "metadata": {},
   "source": [
    "### Some more harder queries"
   ]
  },
  {
   "cell_type": "code",
   "execution_count": null,
   "metadata": {},
   "outputs": [],
   "source": [
    "# and now query 🚀\n",
    "query_engine = index.as_query_engine()\n",
    "response = query_engine.query(\"This is a lab report. You are an expert medical transcriber. Give me a table with all the tests\")\n",
    "print(response)\n",
    "a\n",
    "## Why does this not work???"
   ]
  },
  {
   "cell_type": "code",
   "execution_count": null,
   "metadata": {},
   "outputs": [],
   "source": [
    "# and now query 🚀\n",
    "query_engine = index.as_query_engine(k=10)\n",
    "question = \"\"\"\n",
    "This is a lab report. You are an expert medical transcriber. \n",
    "For all the tests performed please return a 4 column table as test_name, date, lab and result. The result is either positive or negative.\n",
    "\"\"\"\n",
    "response = query_engine.query(question)\n",
    "print(response)\n",
    "\n",
    "## Why does this not work???"
   ]
  },
  {
   "cell_type": "code",
   "execution_count": null,
   "metadata": {},
   "outputs": [],
   "source": [
    "len(response.source_nodes)"
   ]
  },
  {
   "cell_type": "code",
   "execution_count": null,
   "metadata": {},
   "outputs": [],
   "source": [
    "# and now query 🚀\n",
    "query_engine = index.as_query_engine(response_mode='tree_summarize', verbose=True)\n",
    "response = query_engine.query(\"This is a lab report. You are an expert medical transcriber. Give me a list of all the analytes that were measured.\")\n",
    "print(response)\n",
    "\n",
    "## Why does this not work???"
   ]
  },
  {
   "cell_type": "code",
   "execution_count": null,
   "metadata": {},
   "outputs": [],
   "source": [
    "# same query but give it more context via the prompt works.\n",
    "query_engine = index.as_query_engine()\n",
    "question = \"\"\"This is a lab blood report. Its has many entries and various sections about different tests conducted. \n",
    "Please give me the test, result, unit and reference interval in a table. Make sure you do not miss any test\"\n",
    "\"\"\"\n",
    "response = query_engine.query(question)\n",
    "print(response)\n",
    "\n",
    "## CONCERN: There are some values on othere pages it is missing!"
   ]
  },
  {
   "cell_type": "code",
   "execution_count": null,
   "metadata": {},
   "outputs": [],
   "source": [
    "query_engine = index.as_query_engine()\n",
    "question = \"\"\"\n",
    "Please summarize the document for me in 3 paragraphs. First, describing the patient, Second noting the key observations and Third the diagnosis.\n",
    "\"\"\"\n",
    "response = query_engine.query(question)\n",
    "print(response)"
   ]
  },
  {
   "cell_type": "code",
   "execution_count": null,
   "metadata": {},
   "outputs": [],
   "source": [
    "query_engine = index.as_query_engine()\n",
    "question = \"\"\"\n",
    "What is the name of the patient and date of birth?\"\"\"\n",
    "response = query_engine.query(question)\n",
    "print(response)"
   ]
  },
  {
   "cell_type": "code",
   "execution_count": null,
   "metadata": {},
   "outputs": [],
   "source": [
    "query_engine = index.as_query_engine()\n",
    "question = \"\"\"\n",
    "This document is a concatentaion of various visits to the hospital by the patient. Please give me a list of all the visits and tests along with the date\"\"\"\n",
    "response = query_engine.query(question)\n",
    "print(response)"
   ]
  },
  {
   "cell_type": "code",
   "execution_count": null,
   "metadata": {},
   "outputs": [],
   "source": [
    "query_engine = index.as_query_engine()\n",
    "question = \"\"\"\n",
    "This document is a concatentaion of various visits to the hospital by the patient. Please give me a list of all the visits and tests along with the date\"\"\"\n",
    "response = query_engine.query(question)\n",
    "print(response)"
   ]
  },
  {
   "cell_type": "markdown",
   "metadata": {},
   "source": [
    "## Attempt to configure the retriever so I can get *all* results!"
   ]
  },
  {
   "cell_type": "markdown",
   "metadata": {},
   "source": [
    "## Making it more complex since we need top 'n' results not only top 2"
   ]
  },
  {
   "cell_type": "code",
   "execution_count": null,
   "metadata": {},
   "outputs": [],
   "source": [
    "from llama_index.llms import OpenAI\n",
    "\n",
    "llm = OpenAI(model=\"text-davinci-003\", temperature=0, max_tokens=4000)"
   ]
  },
  {
   "cell_type": "code",
   "execution_count": null,
   "metadata": {},
   "outputs": [],
   "source": [
    "from llama_index import (\n",
    "    VectorStoreIndex,\n",
    "    get_response_synthesizer,\n",
    ")\n",
    "from llama_index.retrievers import VectorIndexRetriever\n",
    "from llama_index.query_engine import RetrieverQueryEngine\n",
    "\n",
    "\n",
    "# configure retriever\n",
    "retriever = VectorIndexRetriever(\n",
    "    index=index, \n",
    "    similarity_top_k=10,\n",
    ")\n",
    "\n",
    "# configure response synthesizer\n",
    "response_synthesizer = get_response_synthesizer(\n",
    "    response_mode=\"refine\",\n",
    ")\n",
    "\n",
    "# assemble query engine\n",
    "query_engine = RetrieverQueryEngine(\n",
    "    retriever=retriever,\n",
    "    response_synthesizer=response_synthesizer,\n",
    ")\n",
    "\n",
    "# query\n",
    "\n",
    "response = query_engine.query(question)\n",
    "print(response)"
   ]
  },
  {
   "cell_type": "code",
   "execution_count": null,
   "metadata": {},
   "outputs": [],
   "source": [
    "get_response_synthesizer(res)"
   ]
  },
  {
   "cell_type": "code",
   "execution_count": null,
   "metadata": {},
   "outputs": [],
   "source": [
    "len(response.source_nodes)"
   ]
  },
  {
   "cell_type": "code",
   "execution_count": null,
   "metadata": {},
   "outputs": [],
   "source": [
    "\n",
    "for n in response.source_nodes:\n",
    "    print(\"From: %r\"%(n.node.metadata))\n",
    "    "
   ]
  },
  {
   "cell_type": "code",
   "execution_count": null,
   "metadata": {},
   "outputs": [],
   "source": [
    "response.source_nodes[0].node.metadata\n"
   ]
  },
  {
   "cell_type": "code",
   "execution_count": null,
   "metadata": {},
   "outputs": [],
   "source": [
    "from llama_index.llms import OpenAI"
   ]
  },
  {
   "cell_type": "code",
   "execution_count": null,
   "metadata": {},
   "outputs": [],
   "source": [
    "llm = OpenAI?"
   ]
  },
  {
   "cell_type": "code",
   "execution_count": null,
   "metadata": {},
   "outputs": [],
   "source": [
    "VectorIndexRetriever.retrieve?"
   ]
  },
  {
   "cell_type": "code",
   "execution_count": null,
   "metadata": {},
   "outputs": [],
   "source": []
  }
 ],
 "metadata": {
  "kernelspec": {
   "display_name": "Python 3 (ipykernel)",
   "language": "python",
   "name": "python3"
  },
  "language_info": {
   "codemirror_mode": {
    "name": "ipython",
    "version": 3
   },
   "file_extension": ".py",
   "mimetype": "text/x-python",
   "name": "python",
   "nbconvert_exporter": "python",
   "pygments_lexer": "ipython3",
   "version": "3.10.12"
  }
 },
 "nbformat": 4,
 "nbformat_minor": 4
}
